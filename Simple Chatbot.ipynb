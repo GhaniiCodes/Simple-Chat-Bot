{
 "cells": [
  {
   "cell_type": "code",
   "execution_count": 30,
   "id": "79ae3e6a",
   "metadata": {},
   "outputs": [],
   "source": [
    "import os\n",
    "from dotenv import load_dotenv\n",
    "import openai\n",
    "from langchain_groq import ChatGroq\n",
    "from langchain_openai import ChatOpenAI\n",
    "from langchain_core.messages import HumanMessage, SystemMessage\n",
    "from langchain_core.output_parsers import StrOutputParser\n",
    "from langchain_core.prompts import ChatPromptTemplate"
   ]
  },
  {
   "cell_type": "markdown",
   "id": "6dba2a46",
   "metadata": {},
   "source": [
    "Loading My .env File "
   ]
  },
  {
   "cell_type": "code",
   "execution_count": 10,
   "id": "ac2b1447",
   "metadata": {},
   "outputs": [
    {
     "data": {
      "text/plain": [
       "True"
      ]
     },
     "execution_count": 10,
     "metadata": {},
     "output_type": "execute_result"
    }
   ],
   "source": [
    "load_dotenv(dotenv_path=\"D:\\PYTHON\\GENERATIVE AI\\.ENV FILES\\Simple ChatBot\\.env\")"
   ]
  },
  {
   "cell_type": "markdown",
   "id": "d19c217e",
   "metadata": {},
   "source": [
    "Getting the API Keys from the .env File"
   ]
  },
  {
   "cell_type": "code",
   "execution_count": 11,
   "id": "3f40bf0e",
   "metadata": {},
   "outputs": [],
   "source": [
    "Open_AI_Key = os.getenv(\"OPENAI_API_KEY\")\n",
    "GROQ_Key = os.getenv(\"GROQ_API_KEY\")"
   ]
  },
  {
   "cell_type": "markdown",
   "id": "12f25030",
   "metadata": {},
   "source": [
    "Selecting GROQ model"
   ]
  },
  {
   "cell_type": "code",
   "execution_count": 12,
   "id": "2d090ea7",
   "metadata": {},
   "outputs": [],
   "source": [
    "Model = ChatGroq(model= \"gemma2-9b-it\", groq_api_key = GROQ_Key)"
   ]
  },
  {
   "cell_type": "code",
   "execution_count": 13,
   "id": "9140f0df",
   "metadata": {},
   "outputs": [
    {
     "data": {
      "text/plain": [
       "ChatGroq(client=<groq.resources.chat.completions.Completions object at 0x000001862D758490>, async_client=<groq.resources.chat.completions.AsyncCompletions object at 0x000001862D9B2950>, model_name='gemma2-9b-it', model_kwargs={}, groq_api_key=SecretStr('**********'))"
      ]
     },
     "execution_count": 13,
     "metadata": {},
     "output_type": "execute_result"
    }
   ],
   "source": [
    "Model"
   ]
  },
  {
   "cell_type": "code",
   "execution_count": 22,
   "id": "01aea842",
   "metadata": {},
   "outputs": [],
   "source": [
    "Messages = [\n",
    "    SystemMessage(content=\"Translate The sentences into french\"),\n",
    "    HumanMessage(content=\"Hello, How are You\")\n",
    "]"
   ]
  },
  {
   "cell_type": "code",
   "execution_count": 23,
   "id": "83291da5",
   "metadata": {},
   "outputs": [
    {
     "data": {
      "text/plain": [
       "AIMessage(content='Here are the translations of \"Hello\" and \"How are you\" into French:\\n\\n* **Hello:**  Bonjour\\n* **How are you?:** Comment allez-vous? (formal) or Comment vas-tu? (informal)\\n\\n\\nLet me know if you have any other phrases you\\'d like translated! \\n', additional_kwargs={}, response_metadata={'token_usage': {'completion_tokens': 70, 'prompt_tokens': 19, 'total_tokens': 89, 'completion_time': 0.127272727, 'prompt_time': 0.001322801, 'queue_time': 0.250090549, 'total_time': 0.128595528}, 'model_name': 'gemma2-9b-it', 'system_fingerprint': 'fp_10c08bf97d', 'service_tier': 'on_demand', 'finish_reason': 'stop', 'logprobs': None}, id='run--05e6fbaf-755b-4423-a7a0-d7abd3328ec9-0', usage_metadata={'input_tokens': 19, 'output_tokens': 70, 'total_tokens': 89})"
      ]
     },
     "execution_count": 23,
     "metadata": {},
     "output_type": "execute_result"
    }
   ],
   "source": [
    "Result = Model.invoke(Messages)\n",
    "Result"
   ]
  },
  {
   "cell_type": "markdown",
   "id": "30284997",
   "metadata": {},
   "source": [
    "Will Extract only the AI reply"
   ]
  },
  {
   "cell_type": "code",
   "execution_count": 26,
   "id": "de2f8885",
   "metadata": {},
   "outputs": [],
   "source": [
    "Outparser = StrOutputParser()"
   ]
  },
  {
   "cell_type": "code",
   "execution_count": 27,
   "id": "46e756e7",
   "metadata": {},
   "outputs": [
    {
     "data": {
      "text/plain": [
       "'Here are the translations of \"Hello\" and \"How are you\" into French:\\n\\n* **Hello:**  Bonjour\\n* **How are you?:** Comment allez-vous? (formal) or Comment vas-tu? (informal)\\n\\n\\nLet me know if you have any other phrases you\\'d like translated! \\n'"
      ]
     },
     "execution_count": 27,
     "metadata": {},
     "output_type": "execute_result"
    }
   ],
   "source": [
    "Outparser.invoke(Result)"
   ]
  },
  {
   "cell_type": "markdown",
   "id": "8d155c3a",
   "metadata": {},
   "source": [
    "Chaining Components"
   ]
  },
  {
   "cell_type": "code",
   "execution_count": 28,
   "id": "507807d9",
   "metadata": {},
   "outputs": [],
   "source": [
    "Chain = Model | Outparser"
   ]
  },
  {
   "cell_type": "code",
   "execution_count": 29,
   "id": "7623a54b",
   "metadata": {},
   "outputs": [
    {
     "data": {
      "text/plain": [
       "'Here are a few ways to say \"Hello, How are you?\" in French:\\n\\n* **Bonjour, comment allez-vous ?** (Formal)\\n* **Salut, comment vas-tu ?** (Informal, to one person)\\n* **Salut, comment allez-vous ?** (Informal, to multiple people)\\n\\n\\nLet me know if you\\'d like to practice more French!\\n'"
      ]
     },
     "execution_count": 29,
     "metadata": {},
     "output_type": "execute_result"
    }
   ],
   "source": [
    "Chain.invoke(Messages)"
   ]
  },
  {
   "cell_type": "markdown",
   "id": "47d1f1df",
   "metadata": {},
   "source": [
    "By promt Template "
   ]
  },
  {
   "cell_type": "code",
   "execution_count": 31,
   "id": "16e00906",
   "metadata": {},
   "outputs": [],
   "source": [
    "template = \"Translate the following into the {Language}\"\n",
    "\n",
    "Prompt = ChatPromptTemplate(\n",
    "    [(\"system\" , template), (\"user\", \"{Text}\")]\n",
    ")"
   ]
  },
  {
   "cell_type": "code",
   "execution_count": 35,
   "id": "da6a6fb7",
   "metadata": {},
   "outputs": [],
   "source": [
    "Result = Prompt.invoke({\"Language\": \"Spanish\", \"Text\": \"Hello, My name is Muhammad Usman Ghani\"})"
   ]
  },
  {
   "cell_type": "code",
   "execution_count": 36,
   "id": "72abf839",
   "metadata": {},
   "outputs": [
    {
     "data": {
      "text/plain": [
       "ChatPromptValue(messages=[SystemMessage(content='Translate the following into the Spanish', additional_kwargs={}, response_metadata={}), HumanMessage(content='Hello, My name is Muhammad Usman Ghani', additional_kwargs={}, response_metadata={})])"
      ]
     },
     "execution_count": 36,
     "metadata": {},
     "output_type": "execute_result"
    }
   ],
   "source": [
    "Result"
   ]
  },
  {
   "cell_type": "code",
   "execution_count": 37,
   "id": "05e2313a",
   "metadata": {},
   "outputs": [
    {
     "data": {
      "text/plain": [
       "[SystemMessage(content='Translate the following into the Spanish', additional_kwargs={}, response_metadata={}),\n",
       " HumanMessage(content='Hello, My name is Muhammad Usman Ghani', additional_kwargs={}, response_metadata={})]"
      ]
     },
     "execution_count": 37,
     "metadata": {},
     "output_type": "execute_result"
    }
   ],
   "source": [
    "Result.to_messages()"
   ]
  },
  {
   "cell_type": "code",
   "execution_count": 39,
   "id": "fd347311",
   "metadata": {},
   "outputs": [
    {
     "data": {
      "text/plain": [
       "\"Bonjour, je m'appelle Muhammad Usman Ghani. \\n\""
      ]
     },
     "execution_count": 39,
     "metadata": {},
     "output_type": "execute_result"
    }
   ],
   "source": [
    "chain = Prompt | Model | Outparser\n",
    "chain.invoke({\"Language\": \"French\", \"Text\": \"Hello, My name is Muhammad Usman Ghani\"})"
   ]
  }
 ],
 "metadata": {
  "kernelspec": {
   "display_name": "GENAI",
   "language": "python",
   "name": "python3"
  },
  "language_info": {
   "codemirror_mode": {
    "name": "ipython",
    "version": 3
   },
   "file_extension": ".py",
   "mimetype": "text/x-python",
   "name": "python",
   "nbconvert_exporter": "python",
   "pygments_lexer": "ipython3",
   "version": "3.11.3"
  }
 },
 "nbformat": 4,
 "nbformat_minor": 5
}
